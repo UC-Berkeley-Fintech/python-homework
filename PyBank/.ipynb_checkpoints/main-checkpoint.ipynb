{
 "cells": [
  {
   "cell_type": "code",
   "execution_count": 1,
   "id": "saved-invention",
   "metadata": {},
   "outputs": [],
   "source": [
    "import pandas as pd\n",
    "import numpy as np"
   ]
  },
  {
   "cell_type": "markdown",
   "id": "universal-guide",
   "metadata": {},
   "source": [
    "## Reading and Preparing the Data"
   ]
  },
  {
   "cell_type": "code",
   "execution_count": 2,
   "id": "dangerous-allah",
   "metadata": {},
   "outputs": [],
   "source": [
    "# Read the data\n",
    "p_and_l_df = pd.read_csv(\"budget_data.csv\")"
   ]
  },
  {
   "cell_type": "code",
   "execution_count": 3,
   "id": "polished-helen",
   "metadata": {},
   "outputs": [],
   "source": [
    "# Push the values in each row one place down \n",
    "# replace NaN with zero\n",
    "# specify an int64 dtype for the column \n",
    "p_and_l_df['lag'] = p_and_l_df['Profit/Losses'].shift(1).fillna(0).astype('int64')"
   ]
  },
  {
   "cell_type": "code",
   "execution_count": 4,
   "id": "designed-patio",
   "metadata": {},
   "outputs": [],
   "source": [
    "# Start the calculation from the second row\n",
    "p_and_l_df.loc[1:,'profit increase/decrease'] = p_and_l_df.loc[1:,'Profit/Losses'] - p_and_l_df.loc[1:,'lag']"
   ]
  },
  {
   "cell_type": "code",
   "execution_count": 5,
   "id": "russian-preliminary",
   "metadata": {},
   "outputs": [
    {
     "data": {
      "text/html": [
       "<div>\n",
       "<style scoped>\n",
       "    .dataframe tbody tr th:only-of-type {\n",
       "        vertical-align: middle;\n",
       "    }\n",
       "\n",
       "    .dataframe tbody tr th {\n",
       "        vertical-align: top;\n",
       "    }\n",
       "\n",
       "    .dataframe thead th {\n",
       "        text-align: right;\n",
       "    }\n",
       "</style>\n",
       "<table border=\"1\" class=\"dataframe\">\n",
       "  <thead>\n",
       "    <tr style=\"text-align: right;\">\n",
       "      <th></th>\n",
       "      <th>Date</th>\n",
       "      <th>Profit/Losses</th>\n",
       "      <th>lag</th>\n",
       "      <th>profit increase/decrease</th>\n",
       "    </tr>\n",
       "  </thead>\n",
       "  <tbody>\n",
       "    <tr>\n",
       "      <th>0</th>\n",
       "      <td>Jan-2010</td>\n",
       "      <td>867884</td>\n",
       "      <td>0</td>\n",
       "      <td>NaN</td>\n",
       "    </tr>\n",
       "    <tr>\n",
       "      <th>1</th>\n",
       "      <td>Feb-2010</td>\n",
       "      <td>984655</td>\n",
       "      <td>867884</td>\n",
       "      <td>116771.0</td>\n",
       "    </tr>\n",
       "    <tr>\n",
       "      <th>2</th>\n",
       "      <td>Mar-2010</td>\n",
       "      <td>322013</td>\n",
       "      <td>984655</td>\n",
       "      <td>-662642.0</td>\n",
       "    </tr>\n",
       "    <tr>\n",
       "      <th>3</th>\n",
       "      <td>Apr-2010</td>\n",
       "      <td>-69417</td>\n",
       "      <td>322013</td>\n",
       "      <td>-391430.0</td>\n",
       "    </tr>\n",
       "    <tr>\n",
       "      <th>4</th>\n",
       "      <td>May-2010</td>\n",
       "      <td>310503</td>\n",
       "      <td>-69417</td>\n",
       "      <td>379920.0</td>\n",
       "    </tr>\n",
       "  </tbody>\n",
       "</table>\n",
       "</div>"
      ],
      "text/plain": [
       "       Date  Profit/Losses     lag  profit increase/decrease\n",
       "0  Jan-2010         867884       0                       NaN\n",
       "1  Feb-2010         984655  867884                  116771.0\n",
       "2  Mar-2010         322013  984655                 -662642.0\n",
       "3  Apr-2010         -69417  322013                 -391430.0\n",
       "4  May-2010         310503  -69417                  379920.0"
      ]
     },
     "execution_count": 5,
     "metadata": {},
     "output_type": "execute_result"
    }
   ],
   "source": [
    "# Look at the dataframe to make sure \n",
    "# it includes the data as intended\n",
    "p_and_l_df.head()"
   ]
  },
  {
   "cell_type": "markdown",
   "id": "virgin-designation",
   "metadata": {},
   "source": [
    "## Calculations"
   ]
  },
  {
   "cell_type": "code",
   "execution_count": 6,
   "id": "american-jenny",
   "metadata": {},
   "outputs": [],
   "source": [
    "# Number of months is the number of rows in the dataFrame\n",
    "total_months = len(p_and_l_df.index)\n",
    "# sum of the column\n",
    "total = p_and_l_df['Profit/Losses'].sum()\n",
    "# the mean function disregards the NaN which is what we want in this case\n",
    "average = p_and_l_df['profit increase/decrease'].mean() #ignores the nan in the calculation  \n",
    "maximum = p_and_l_df['profit increase/decrease'].max()\n",
    "minimum = p_and_l_df['profit increase/decrease'].min()\n",
    "# Find the row that corresponds to the max value\n",
    "max_row = p_and_l_df.loc[p_and_l_df['profit increase/decrease']==p_and_l_df['profit increase/decrease'].max()]\n",
    "# Extract the date\n",
    "max_date = max_row.iloc[0, 0]\n",
    "# Find the row that corresponds to the min value\n",
    "min_row = p_and_l_df.loc[p_and_l_df['profit increase/decrease']==p_and_l_df['profit increase/decrease'].min()]\n",
    "# Extract the date\n",
    "min_date = min_row.iloc[0, 0]"
   ]
  },
  {
   "cell_type": "markdown",
   "id": "fatal-scale",
   "metadata": {},
   "source": [
    "## Presenting the Results"
   ]
  },
  {
   "cell_type": "code",
   "execution_count": 7,
   "id": "extensive-recorder",
   "metadata": {},
   "outputs": [
    {
     "name": "stdout",
     "output_type": "stream",
     "text": [
      "Financial Analysis\n",
      "-----------------------------\n",
      "Total Months: 86\n",
      "Total: $38382578\n",
      "Average  Change: $-2315.12\n",
      "Greatest Increase in Profits: Feb-2012 ($1926159)\n",
      "Greatest Decrease in Profits: Sep-2013 ($-2196167)\n"
     ]
    }
   ],
   "source": [
    "# Output the data\n",
    "print(\"Financial Analysis\")\n",
    "print(\"-----------------------------\")\n",
    "print(f\"Total Months: {total_months}\")\n",
    "print(f\"Total: ${total}\")\n",
    "print(f\"Average  Change: ${average:.2f}\")\n",
    "print(f\"Greatest Increase in Profits: {max_date} (${maximum:.0f})\")\n",
    "print(f\"Greatest Decrease in Profits: {min_date} (${minimum:.0f})\")"
   ]
  },
  {
   "cell_type": "code",
   "execution_count": 8,
   "id": "blank-wound",
   "metadata": {},
   "outputs": [],
   "source": [
    "# Write the data to a file\n",
    "output = open(\"Financial_Analysis.txt\",\"w+\")\n",
    "output.write(\"Financial Analysis\\r\")\n",
    "output.write(\"-----------------------------\\r\")\n",
    "output.write(f\"Total Months: {total_months}\\r\")\n",
    "output.write(f\"Total: ${total}\\r\")\n",
    "output.write(f\"Average  Change: ${average:.2f}\\r\")\n",
    "output.write(f\"Greatest Increase in Profits: {max_date} (${maximum:.0f})\\r\")\n",
    "output.write(f\"Greatest Decrease in Profits: {min_date} (${minimum:.0f})\\r\")\n",
    "output.write(\"--------------EOF------------\")\n",
    "output.close()"
   ]
  },
  {
   "cell_type": "code",
   "execution_count": null,
   "id": "adjustable-desperate",
   "metadata": {},
   "outputs": [],
   "source": []
  }
 ],
 "metadata": {
  "kernelspec": {
   "display_name": "Python 3",
   "language": "python",
   "name": "python3"
  },
  "language_info": {
   "codemirror_mode": {
    "name": "ipython",
    "version": 3
   },
   "file_extension": ".py",
   "mimetype": "text/x-python",
   "name": "python",
   "nbconvert_exporter": "python",
   "pygments_lexer": "ipython3",
   "version": "3.8.5"
  }
 },
 "nbformat": 4,
 "nbformat_minor": 5
}
